{
 "cells": [
  {
   "cell_type": "markdown",
   "metadata": {},
   "source": [
    "#Part 5: fit GLM and use as input to HDDM"
   ]
  },
  {
   "cell_type": "markdown",
   "metadata": {},
   "source": [
    "In this last part we will fit a GLM to the fMRI data and use the parameters we estimate to link the neural data to the drift diffusion model"
   ]
  },
  {
   "cell_type": "code",
   "execution_count": 339,
   "metadata": {
    "collapsed": true
   },
   "outputs": [],
   "source": [
    "import numpy as np\n",
    "import matplotlib.pyplot as plt\n",
    "import seaborn as sns\n",
    "import pandas\n",
    "import scipy as sp\n",
    "from scipy import stats\n",
    "%matplotlib inline"
   ]
  },
  {
   "cell_type": "markdown",
   "metadata": {},
   "source": [
    "### Get the signals"
   ]
  },
  {
   "cell_type": "markdown",
   "metadata": {},
   "source": [
    "We use a glob and regular experssion to get the data:"
   ]
  },
  {
   "cell_type": "code",
   "execution_count": 340,
   "metadata": {
    "collapsed": true
   },
   "outputs": [],
   "source": [
    "import glob\n",
    "import re"
   ]
  },
  {
   "cell_type": "code",
   "execution_count": 341,
   "metadata": {
    "collapsed": false
   },
   "outputs": [
    {
     "data": {
      "text/plain": [
       "['/data/extracted_signals/extracted_timeseries/_mask_STR_L_subject_id_0483/_extracter0/pp0483_B1_dtype_mcf_mask_gms_tempfilt_warp_ts.txt',\n",
       " '/data/extracted_signals/extracted_timeseries/_mask_STR_L_subject_id_0483/_extracter1/pp0483_B2_dtype_mcf_mask_gms_tempfilt_warp_ts.txt',\n",
       " '/data/extracted_signals/extracted_timeseries/_mask_STR_R_subject_id_0553/_extracter0/pp0553_B1_dtype_mcf_mask_gms_tempfilt_warp_ts.txt',\n",
       " '/data/extracted_signals/extracted_timeseries/_mask_STR_R_subject_id_0553/_extracter1/pp0553_B2_dtype_mcf_mask_gms_tempfilt_warp_ts.txt',\n",
       " '/data/extracted_signals/extracted_timeseries/_mask_STR_L_subject_id_0197/_extracter0/pp0197_B1_dtype_mcf_mask_gms_tempfilt_warp_ts.txt',\n",
       " '/data/extracted_signals/extracted_timeseries/_mask_STR_L_subject_id_0197/_extracter1/pp0197_B2_dtype_mcf_mask_gms_tempfilt_warp_ts.txt',\n",
       " '/data/extracted_signals/extracted_timeseries/_mask_STR_L_subject_id_0551/_extracter0/pp0551_B1_dtype_mcf_mask_gms_tempfilt_warp_ts.txt',\n",
       " '/data/extracted_signals/extracted_timeseries/_mask_STR_L_subject_id_0551/_extracter1/pp0551_B2_dtype_mcf_mask_gms_tempfilt_warp_ts.txt',\n",
       " '/data/extracted_signals/extracted_timeseries/_mask_STR_R_subject_id_0551/_extracter0/pp0551_B1_dtype_mcf_mask_gms_tempfilt_warp_ts.txt',\n",
       " '/data/extracted_signals/extracted_timeseries/_mask_STR_R_subject_id_0551/_extracter1/pp0551_B2_dtype_mcf_mask_gms_tempfilt_warp_ts.txt']"
      ]
     },
     "execution_count": 341,
     "metadata": {},
     "output_type": "execute_result"
    }
   ],
   "source": [
    "fns = glob.glob('/data/extracted_signals/extracted_timeseries/_mask_*_subject_id_*/_extracter*/*.txt')\n",
    "fns[:10]"
   ]
  },
  {
   "cell_type": "markdown",
   "metadata": {},
   "source": [
    "1) What does the following code do?"
   ]
  },
  {
   "cell_type": "code",
   "execution_count": 342,
   "metadata": {
    "collapsed": false
   },
   "outputs": [],
   "source": [
    "reg = re.compile('.*/_mask_(?P<mask>.*)_subject_id_(?P<subj_idx>.*)/_extracter[0-9]/.*_B(?P<block>[0-9])_dtype_mcf_mask_gms_tempfilt_warp_ts.txt')"
   ]
  },
  {
   "cell_type": "code",
   "execution_count": 343,
   "metadata": {
    "collapsed": false
   },
   "outputs": [
    {
     "name": "stdout",
     "output_type": "stream",
     "text": [
      "/data/extracted_signals/extracted_timeseries/_mask_STR_L_subject_id_0483/_extracter0/pp0483_B1_dtype_mcf_mask_gms_tempfilt_warp_ts.txt {'subj_idx': '0483', 'mask': 'STR_L', 'block': '1'}\n",
      "/data/extracted_signals/extracted_timeseries/_mask_STR_L_subject_id_0483/_extracter1/pp0483_B2_dtype_mcf_mask_gms_tempfilt_warp_ts.txt {'subj_idx': '0483', 'mask': 'STR_L', 'block': '2'}\n",
      "/data/extracted_signals/extracted_timeseries/_mask_STR_R_subject_id_0553/_extracter0/pp0553_B1_dtype_mcf_mask_gms_tempfilt_warp_ts.txt {'subj_idx': '0553', 'mask': 'STR_R', 'block': '1'}\n",
      "/data/extracted_signals/extracted_timeseries/_mask_STR_R_subject_id_0553/_extracter1/pp0553_B2_dtype_mcf_mask_gms_tempfilt_warp_ts.txt {'subj_idx': '0553', 'mask': 'STR_R', 'block': '2'}\n",
      "/data/extracted_signals/extracted_timeseries/_mask_STR_L_subject_id_0197/_extracter0/pp0197_B1_dtype_mcf_mask_gms_tempfilt_warp_ts.txt {'subj_idx': '0197', 'mask': 'STR_L', 'block': '1'}\n"
     ]
    }
   ],
   "source": [
    "for fn in fns[:5]:\n",
    "    print fn, reg.match(fn).groupdict()"
   ]
  },
  {
   "cell_type": "markdown",
   "metadata": {},
   "source": [
    "Let's put everything in a large dataframe:"
   ]
  },
  {
   "cell_type": "code",
   "execution_count": 344,
   "metadata": {
    "collapsed": false
   },
   "outputs": [],
   "source": [
    "df = []\n",
    "\n",
    "for fn in fns:\n",
    "    d = reg.match(fn).groupdict()\n",
    "    d['signal'] = np.loadtxt(fn)\n",
    "    df.append(d)\n",
    "    \n",
    "df = pandas.DataFrame(df)\n",
    "df['block'] = df['block'].astype(int)\n",
    "df['subj_idx'] = df['subj_idx'].astype(int)"
   ]
  },
  {
   "cell_type": "markdown",
   "metadata": {},
   "source": [
    "2) Have a look at the head of the dataframe, what do you see? Can you plot the signal for a few subjects?"
   ]
  },
  {
   "cell_type": "code",
   "execution_count": null,
   "metadata": {
    "collapsed": true
   },
   "outputs": [],
   "source": []
  },
  {
   "cell_type": "code",
   "execution_count": 345,
   "metadata": {
    "collapsed": false
   },
   "outputs": [
    {
     "data": {
      "text/html": [
       "<div style=\"max-height:1000px;max-width:1500px;overflow:auto;\">\n",
       "<table border=\"1\" class=\"dataframe\">\n",
       "  <thead>\n",
       "    <tr style=\"text-align: right;\">\n",
       "      <th></th>\n",
       "      <th>block</th>\n",
       "      <th>mask</th>\n",
       "      <th>signal</th>\n",
       "      <th>subj_idx</th>\n",
       "    </tr>\n",
       "  </thead>\n",
       "  <tbody>\n",
       "    <tr>\n",
       "      <th>0</th>\n",
       "      <td>1</td>\n",
       "      <td>STR_L</td>\n",
       "      <td>[-8.262414933, 6.395576764, -23.70604471, -15....</td>\n",
       "      <td>483</td>\n",
       "    </tr>\n",
       "    <tr>\n",
       "      <th>1</th>\n",
       "      <td>2</td>\n",
       "      <td>STR_L</td>\n",
       "      <td>[8.46078402, -4.054066721, 30.41606345, 37.158...</td>\n",
       "      <td>483</td>\n",
       "    </tr>\n",
       "    <tr>\n",
       "      <th>2</th>\n",
       "      <td>1</td>\n",
       "      <td>STR_R</td>\n",
       "      <td>[-0.1760025031, 54.6030405, 49.77598952, 39.83...</td>\n",
       "      <td>553</td>\n",
       "    </tr>\n",
       "    <tr>\n",
       "      <th>3</th>\n",
       "      <td>2</td>\n",
       "      <td>STR_R</td>\n",
       "      <td>[-18.53217572, 1.719660699, 16.76373175, -6.66...</td>\n",
       "      <td>553</td>\n",
       "    </tr>\n",
       "    <tr>\n",
       "      <th>4</th>\n",
       "      <td>1</td>\n",
       "      <td>STR_L</td>\n",
       "      <td>[-32.27034141, -27.29804682, -25.59760089, -12...</td>\n",
       "      <td>197</td>\n",
       "    </tr>\n",
       "    <tr>\n",
       "      <th>5</th>\n",
       "      <td>2</td>\n",
       "      <td>STR_L</td>\n",
       "      <td>[57.67064588, 113.4375781, 76.77986256, 26.889...</td>\n",
       "      <td>197</td>\n",
       "    </tr>\n",
       "    <tr>\n",
       "      <th>6</th>\n",
       "      <td>1</td>\n",
       "      <td>STR_L</td>\n",
       "      <td>[-46.17725772, -9.045052082, -30.84334848, -65...</td>\n",
       "      <td>551</td>\n",
       "    </tr>\n",
       "    <tr>\n",
       "      <th>7</th>\n",
       "      <td>2</td>\n",
       "      <td>STR_L</td>\n",
       "      <td>[-37.37061246, -36.52424222, -21.79381393, -0....</td>\n",
       "      <td>551</td>\n",
       "    </tr>\n",
       "    <tr>\n",
       "      <th>8</th>\n",
       "      <td>1</td>\n",
       "      <td>STR_R</td>\n",
       "      <td>[-37.27095632, -26.62397819, -19.58466272, -28...</td>\n",
       "      <td>551</td>\n",
       "    </tr>\n",
       "    <tr>\n",
       "      <th>9</th>\n",
       "      <td>2</td>\n",
       "      <td>STR_R</td>\n",
       "      <td>[-42.48003882, -32.81134667, -11.87963014, -8....</td>\n",
       "      <td>551</td>\n",
       "    </tr>\n",
       "    <tr>\n",
       "      <th>10</th>\n",
       "      <td>1</td>\n",
       "      <td>STR_R</td>\n",
       "      <td>[6.19710513, -13.78086435, -21.33112989, -10.2...</td>\n",
       "      <td>372</td>\n",
       "    </tr>\n",
       "    <tr>\n",
       "      <th>11</th>\n",
       "      <td>2</td>\n",
       "      <td>STR_R</td>\n",
       "      <td>[-4.926060191, -6.372508202, 13.86569868, -23....</td>\n",
       "      <td>372</td>\n",
       "    </tr>\n",
       "    <tr>\n",
       "      <th>12</th>\n",
       "      <td>1</td>\n",
       "      <td>STR_L</td>\n",
       "      <td>[-60.03859214, -29.5210155, -62.15683668, -25....</td>\n",
       "      <td>548</td>\n",
       "    </tr>\n",
       "    <tr>\n",
       "      <th>13</th>\n",
       "      <td>2</td>\n",
       "      <td>STR_L</td>\n",
       "      <td>[-47.30397945, -8.602728439, -11.66470607, -5....</td>\n",
       "      <td>548</td>\n",
       "    </tr>\n",
       "    <tr>\n",
       "      <th>14</th>\n",
       "      <td>1</td>\n",
       "      <td>STR_R</td>\n",
       "      <td>[13.96509665, -12.91532206, 4.276590929, -10.2...</td>\n",
       "      <td>559</td>\n",
       "    </tr>\n",
       "    <tr>\n",
       "      <th>15</th>\n",
       "      <td>2</td>\n",
       "      <td>STR_R</td>\n",
       "      <td>[14.41434912, -16.97040964, -42.12664158, -74....</td>\n",
       "      <td>559</td>\n",
       "    </tr>\n",
       "    <tr>\n",
       "      <th>16</th>\n",
       "      <td>1</td>\n",
       "      <td>STR_R</td>\n",
       "      <td>[-64.84043952, -51.75279447, -73.02029543, -31...</td>\n",
       "      <td>554</td>\n",
       "    </tr>\n",
       "    <tr>\n",
       "      <th>17</th>\n",
       "      <td>2</td>\n",
       "      <td>STR_R</td>\n",
       "      <td>[21.94629966, 8.283856994, -2.568588736, -35.3...</td>\n",
       "      <td>554</td>\n",
       "    </tr>\n",
       "    <tr>\n",
       "      <th>18</th>\n",
       "      <td>1</td>\n",
       "      <td>STR_L</td>\n",
       "      <td>[9.436277802, 46.54986304, 39.4718065, 11.1237...</td>\n",
       "      <td>555</td>\n",
       "    </tr>\n",
       "    <tr>\n",
       "      <th>19</th>\n",
       "      <td>2</td>\n",
       "      <td>STR_L</td>\n",
       "      <td>[0.1826974522, 8.880157599, -4.858564687, 43.3...</td>\n",
       "      <td>555</td>\n",
       "    </tr>\n",
       "    <tr>\n",
       "      <th>20</th>\n",
       "      <td>1</td>\n",
       "      <td>STR_L</td>\n",
       "      <td>[1.127772836, -26.71320007, -22.38339743, 1.98...</td>\n",
       "      <td>498</td>\n",
       "    </tr>\n",
       "    <tr>\n",
       "      <th>21</th>\n",
       "      <td>2</td>\n",
       "      <td>STR_L</td>\n",
       "      <td>[-75.15349901, -83.72141206, -95.93985162, -8....</td>\n",
       "      <td>498</td>\n",
       "    </tr>\n",
       "    <tr>\n",
       "      <th>22</th>\n",
       "      <td>1</td>\n",
       "      <td>STR_L</td>\n",
       "      <td>[62.09433314, 32.73546418, 10.21938481, -24.80...</td>\n",
       "      <td>552</td>\n",
       "    </tr>\n",
       "    <tr>\n",
       "      <th>23</th>\n",
       "      <td>2</td>\n",
       "      <td>STR_L</td>\n",
       "      <td>[-20.87740402, 10.05998235, 8.346758936, -34.3...</td>\n",
       "      <td>552</td>\n",
       "    </tr>\n",
       "    <tr>\n",
       "      <th>24</th>\n",
       "      <td>1</td>\n",
       "      <td>STR_L</td>\n",
       "      <td>[27.29519164, -14.25105046, -1.73996834, -8.77...</td>\n",
       "      <td>559</td>\n",
       "    </tr>\n",
       "    <tr>\n",
       "      <th>25</th>\n",
       "      <td>2</td>\n",
       "      <td>STR_L</td>\n",
       "      <td>[38.9526325, -9.334854577, -46.81260525, -81.8...</td>\n",
       "      <td>559</td>\n",
       "    </tr>\n",
       "    <tr>\n",
       "      <th>26</th>\n",
       "      <td>1</td>\n",
       "      <td>STR_R</td>\n",
       "      <td>[47.14589351, 43.31640887, 17.24065383, -5.502...</td>\n",
       "      <td>552</td>\n",
       "    </tr>\n",
       "    <tr>\n",
       "      <th>27</th>\n",
       "      <td>2</td>\n",
       "      <td>STR_R</td>\n",
       "      <td>[-10.36526622, 14.02725555, 5.065725166, -10.5...</td>\n",
       "      <td>552</td>\n",
       "    </tr>\n",
       "    <tr>\n",
       "      <th>28</th>\n",
       "      <td>1</td>\n",
       "      <td>STR_R</td>\n",
       "      <td>[3.29786659, -24.12702252, -37.6847473, -39.94...</td>\n",
       "      <td>558</td>\n",
       "    </tr>\n",
       "    <tr>\n",
       "      <th>29</th>\n",
       "      <td>2</td>\n",
       "      <td>STR_R</td>\n",
       "      <td>[-29.98761039, -58.55156207, -38.50155908, -11...</td>\n",
       "      <td>558</td>\n",
       "    </tr>\n",
       "    <tr>\n",
       "      <th>...</th>\n",
       "      <td>...</td>\n",
       "      <td>...</td>\n",
       "      <td>...</td>\n",
       "      <td>...</td>\n",
       "    </tr>\n",
       "    <tr>\n",
       "      <th>38</th>\n",
       "      <td>1</td>\n",
       "      <td>STR_R</td>\n",
       "      <td>[-12.18453145, -23.20009492, -33.12474868, -16...</td>\n",
       "      <td>548</td>\n",
       "    </tr>\n",
       "    <tr>\n",
       "      <th>39</th>\n",
       "      <td>2</td>\n",
       "      <td>STR_R</td>\n",
       "      <td>[-21.88980248, 1.480167777, -11.60869915, 16.7...</td>\n",
       "      <td>548</td>\n",
       "    </tr>\n",
       "    <tr>\n",
       "      <th>40</th>\n",
       "      <td>1</td>\n",
       "      <td>STR_R</td>\n",
       "      <td>[-23.16491225, 5.247468876, -4.067147834, -23....</td>\n",
       "      <td>523</td>\n",
       "    </tr>\n",
       "    <tr>\n",
       "      <th>41</th>\n",
       "      <td>2</td>\n",
       "      <td>STR_R</td>\n",
       "      <td>[-32.43808203, 39.30924219, -46.66981959, -37....</td>\n",
       "      <td>523</td>\n",
       "    </tr>\n",
       "    <tr>\n",
       "      <th>42</th>\n",
       "      <td>1</td>\n",
       "      <td>STR_L</td>\n",
       "      <td>[-25.37582471, -33.69669125, -12.33984384, -41...</td>\n",
       "      <td>523</td>\n",
       "    </tr>\n",
       "    <tr>\n",
       "      <th>43</th>\n",
       "      <td>2</td>\n",
       "      <td>STR_L</td>\n",
       "      <td>[-24.54108649, 18.09237009, -62.09128365, -4.1...</td>\n",
       "      <td>523</td>\n",
       "    </tr>\n",
       "    <tr>\n",
       "      <th>44</th>\n",
       "      <td>1</td>\n",
       "      <td>STR_R</td>\n",
       "      <td>[-42.98468047, -47.48395662, -63.00093373, -27...</td>\n",
       "      <td>544</td>\n",
       "    </tr>\n",
       "    <tr>\n",
       "      <th>45</th>\n",
       "      <td>2</td>\n",
       "      <td>STR_R</td>\n",
       "      <td>[-6.395553609, -15.84547009, -4.169233821, -1....</td>\n",
       "      <td>544</td>\n",
       "    </tr>\n",
       "    <tr>\n",
       "      <th>46</th>\n",
       "      <td>1</td>\n",
       "      <td>STR_R</td>\n",
       "      <td>[13.40364687, 1.506135702, 10.67357189, -12.14...</td>\n",
       "      <td>381</td>\n",
       "    </tr>\n",
       "    <tr>\n",
       "      <th>47</th>\n",
       "      <td>2</td>\n",
       "      <td>STR_R</td>\n",
       "      <td>[6.061092154, -8.965138089, 5.09808179, 2.8676...</td>\n",
       "      <td>381</td>\n",
       "    </tr>\n",
       "    <tr>\n",
       "      <th>48</th>\n",
       "      <td>1</td>\n",
       "      <td>STR_R</td>\n",
       "      <td>[53.63713497, 13.94092181, 28.24208319, 57.177...</td>\n",
       "      <td>549</td>\n",
       "    </tr>\n",
       "    <tr>\n",
       "      <th>49</th>\n",
       "      <td>2</td>\n",
       "      <td>STR_R</td>\n",
       "      <td>[53.63713497, 13.94092181, 28.24208319, 57.177...</td>\n",
       "      <td>549</td>\n",
       "    </tr>\n",
       "    <tr>\n",
       "      <th>50</th>\n",
       "      <td>1</td>\n",
       "      <td>STR_L</td>\n",
       "      <td>[-1.458208629, -28.54550838, 7.037276897, 22.7...</td>\n",
       "      <td>471</td>\n",
       "    </tr>\n",
       "    <tr>\n",
       "      <th>51</th>\n",
       "      <td>2</td>\n",
       "      <td>STR_L</td>\n",
       "      <td>[25.4204747, 22.26937477, 18.61055714, 2.30799...</td>\n",
       "      <td>471</td>\n",
       "    </tr>\n",
       "    <tr>\n",
       "      <th>52</th>\n",
       "      <td>1</td>\n",
       "      <td>STR_R</td>\n",
       "      <td>[19.5666708, 29.15942051, 44.02129958, 14.0471...</td>\n",
       "      <td>555</td>\n",
       "    </tr>\n",
       "    <tr>\n",
       "      <th>53</th>\n",
       "      <td>2</td>\n",
       "      <td>STR_R</td>\n",
       "      <td>[0.3615942323, 25.23156712, 3.550562069, 61.72...</td>\n",
       "      <td>555</td>\n",
       "    </tr>\n",
       "    <tr>\n",
       "      <th>54</th>\n",
       "      <td>1</td>\n",
       "      <td>STR_L</td>\n",
       "      <td>[-2.887892222, -20.81982664, -22.71558768, -17...</td>\n",
       "      <td>558</td>\n",
       "    </tr>\n",
       "    <tr>\n",
       "      <th>55</th>\n",
       "      <td>2</td>\n",
       "      <td>STR_L</td>\n",
       "      <td>[-36.07044555, -61.97489669, -37.60583588, -5....</td>\n",
       "      <td>558</td>\n",
       "    </tr>\n",
       "    <tr>\n",
       "      <th>56</th>\n",
       "      <td>1</td>\n",
       "      <td>STR_R</td>\n",
       "      <td>[0.6765439144, -12.40532109, 12.46287217, 32.3...</td>\n",
       "      <td>471</td>\n",
       "    </tr>\n",
       "    <tr>\n",
       "      <th>57</th>\n",
       "      <td>2</td>\n",
       "      <td>STR_R</td>\n",
       "      <td>[19.18353831, -8.241885362, 21.80998485, -4.73...</td>\n",
       "      <td>471</td>\n",
       "    </tr>\n",
       "    <tr>\n",
       "      <th>58</th>\n",
       "      <td>1</td>\n",
       "      <td>STR_R</td>\n",
       "      <td>[37.89619198, -14.99469744, 18.69589436, 54.24...</td>\n",
       "      <td>498</td>\n",
       "    </tr>\n",
       "    <tr>\n",
       "      <th>59</th>\n",
       "      <td>2</td>\n",
       "      <td>STR_R</td>\n",
       "      <td>[-102.3469301, -154.6220667, -116.2699788, -31...</td>\n",
       "      <td>498</td>\n",
       "    </tr>\n",
       "    <tr>\n",
       "      <th>60</th>\n",
       "      <td>1</td>\n",
       "      <td>STR_L</td>\n",
       "      <td>[11.55908632, 67.96643852, 19.81529921, 30.157...</td>\n",
       "      <td>553</td>\n",
       "    </tr>\n",
       "    <tr>\n",
       "      <th>61</th>\n",
       "      <td>2</td>\n",
       "      <td>STR_L</td>\n",
       "      <td>[-14.95056593, 6.521887439, 40.45639705, 27.75...</td>\n",
       "      <td>553</td>\n",
       "    </tr>\n",
       "    <tr>\n",
       "      <th>62</th>\n",
       "      <td>1</td>\n",
       "      <td>STR_L</td>\n",
       "      <td>[-19.85955173, -18.86471239, -10.02503189, 1.2...</td>\n",
       "      <td>372</td>\n",
       "    </tr>\n",
       "    <tr>\n",
       "      <th>63</th>\n",
       "      <td>2</td>\n",
       "      <td>STR_L</td>\n",
       "      <td>[-22.46589901, -27.23264731, 10.70165467, -16....</td>\n",
       "      <td>372</td>\n",
       "    </tr>\n",
       "    <tr>\n",
       "      <th>64</th>\n",
       "      <td>1</td>\n",
       "      <td>STR_R</td>\n",
       "      <td>[-36.02586136, -41.00177943, -2.537279094, -8....</td>\n",
       "      <td>197</td>\n",
       "    </tr>\n",
       "    <tr>\n",
       "      <th>65</th>\n",
       "      <td>2</td>\n",
       "      <td>STR_R</td>\n",
       "      <td>[44.21098698, 118.4896724, 103.170807, 82.4532...</td>\n",
       "      <td>197</td>\n",
       "    </tr>\n",
       "    <tr>\n",
       "      <th>66</th>\n",
       "      <td>1</td>\n",
       "      <td>STR_L</td>\n",
       "      <td>[31.92269474, 23.18883325, -32.43116027, -15.1...</td>\n",
       "      <td>549</td>\n",
       "    </tr>\n",
       "    <tr>\n",
       "      <th>67</th>\n",
       "      <td>2</td>\n",
       "      <td>STR_L</td>\n",
       "      <td>[31.92269474, 23.18883325, -32.43116027, -15.1...</td>\n",
       "      <td>549</td>\n",
       "    </tr>\n",
       "  </tbody>\n",
       "</table>\n",
       "<p>68 rows × 4 columns</p>\n",
       "</div>"
      ],
      "text/plain": [
       "    block   mask                                             signal  subj_idx\n",
       "0       1  STR_L  [-8.262414933, 6.395576764, -23.70604471, -15....       483\n",
       "1       2  STR_L  [8.46078402, -4.054066721, 30.41606345, 37.158...       483\n",
       "2       1  STR_R  [-0.1760025031, 54.6030405, 49.77598952, 39.83...       553\n",
       "3       2  STR_R  [-18.53217572, 1.719660699, 16.76373175, -6.66...       553\n",
       "4       1  STR_L  [-32.27034141, -27.29804682, -25.59760089, -12...       197\n",
       "5       2  STR_L  [57.67064588, 113.4375781, 76.77986256, 26.889...       197\n",
       "6       1  STR_L  [-46.17725772, -9.045052082, -30.84334848, -65...       551\n",
       "7       2  STR_L  [-37.37061246, -36.52424222, -21.79381393, -0....       551\n",
       "8       1  STR_R  [-37.27095632, -26.62397819, -19.58466272, -28...       551\n",
       "9       2  STR_R  [-42.48003882, -32.81134667, -11.87963014, -8....       551\n",
       "10      1  STR_R  [6.19710513, -13.78086435, -21.33112989, -10.2...       372\n",
       "11      2  STR_R  [-4.926060191, -6.372508202, 13.86569868, -23....       372\n",
       "12      1  STR_L  [-60.03859214, -29.5210155, -62.15683668, -25....       548\n",
       "13      2  STR_L  [-47.30397945, -8.602728439, -11.66470607, -5....       548\n",
       "14      1  STR_R  [13.96509665, -12.91532206, 4.276590929, -10.2...       559\n",
       "15      2  STR_R  [14.41434912, -16.97040964, -42.12664158, -74....       559\n",
       "16      1  STR_R  [-64.84043952, -51.75279447, -73.02029543, -31...       554\n",
       "17      2  STR_R  [21.94629966, 8.283856994, -2.568588736, -35.3...       554\n",
       "18      1  STR_L  [9.436277802, 46.54986304, 39.4718065, 11.1237...       555\n",
       "19      2  STR_L  [0.1826974522, 8.880157599, -4.858564687, 43.3...       555\n",
       "20      1  STR_L  [1.127772836, -26.71320007, -22.38339743, 1.98...       498\n",
       "21      2  STR_L  [-75.15349901, -83.72141206, -95.93985162, -8....       498\n",
       "22      1  STR_L  [62.09433314, 32.73546418, 10.21938481, -24.80...       552\n",
       "23      2  STR_L  [-20.87740402, 10.05998235, 8.346758936, -34.3...       552\n",
       "24      1  STR_L  [27.29519164, -14.25105046, -1.73996834, -8.77...       559\n",
       "25      2  STR_L  [38.9526325, -9.334854577, -46.81260525, -81.8...       559\n",
       "26      1  STR_R  [47.14589351, 43.31640887, 17.24065383, -5.502...       552\n",
       "27      2  STR_R  [-10.36526622, 14.02725555, 5.065725166, -10.5...       552\n",
       "28      1  STR_R  [3.29786659, -24.12702252, -37.6847473, -39.94...       558\n",
       "29      2  STR_R  [-29.98761039, -58.55156207, -38.50155908, -11...       558\n",
       "..    ...    ...                                                ...       ...\n",
       "38      1  STR_R  [-12.18453145, -23.20009492, -33.12474868, -16...       548\n",
       "39      2  STR_R  [-21.88980248, 1.480167777, -11.60869915, 16.7...       548\n",
       "40      1  STR_R  [-23.16491225, 5.247468876, -4.067147834, -23....       523\n",
       "41      2  STR_R  [-32.43808203, 39.30924219, -46.66981959, -37....       523\n",
       "42      1  STR_L  [-25.37582471, -33.69669125, -12.33984384, -41...       523\n",
       "43      2  STR_L  [-24.54108649, 18.09237009, -62.09128365, -4.1...       523\n",
       "44      1  STR_R  [-42.98468047, -47.48395662, -63.00093373, -27...       544\n",
       "45      2  STR_R  [-6.395553609, -15.84547009, -4.169233821, -1....       544\n",
       "46      1  STR_R  [13.40364687, 1.506135702, 10.67357189, -12.14...       381\n",
       "47      2  STR_R  [6.061092154, -8.965138089, 5.09808179, 2.8676...       381\n",
       "48      1  STR_R  [53.63713497, 13.94092181, 28.24208319, 57.177...       549\n",
       "49      2  STR_R  [53.63713497, 13.94092181, 28.24208319, 57.177...       549\n",
       "50      1  STR_L  [-1.458208629, -28.54550838, 7.037276897, 22.7...       471\n",
       "51      2  STR_L  [25.4204747, 22.26937477, 18.61055714, 2.30799...       471\n",
       "52      1  STR_R  [19.5666708, 29.15942051, 44.02129958, 14.0471...       555\n",
       "53      2  STR_R  [0.3615942323, 25.23156712, 3.550562069, 61.72...       555\n",
       "54      1  STR_L  [-2.887892222, -20.81982664, -22.71558768, -17...       558\n",
       "55      2  STR_L  [-36.07044555, -61.97489669, -37.60583588, -5....       558\n",
       "56      1  STR_R  [0.6765439144, -12.40532109, 12.46287217, 32.3...       471\n",
       "57      2  STR_R  [19.18353831, -8.241885362, 21.80998485, -4.73...       471\n",
       "58      1  STR_R  [37.89619198, -14.99469744, 18.69589436, 54.24...       498\n",
       "59      2  STR_R  [-102.3469301, -154.6220667, -116.2699788, -31...       498\n",
       "60      1  STR_L  [11.55908632, 67.96643852, 19.81529921, 30.157...       553\n",
       "61      2  STR_L  [-14.95056593, 6.521887439, 40.45639705, 27.75...       553\n",
       "62      1  STR_L  [-19.85955173, -18.86471239, -10.02503189, 1.2...       372\n",
       "63      2  STR_L  [-22.46589901, -27.23264731, 10.70165467, -16....       372\n",
       "64      1  STR_R  [-36.02586136, -41.00177943, -2.537279094, -8....       197\n",
       "65      2  STR_R  [44.21098698, 118.4896724, 103.170807, 82.4532...       197\n",
       "66      1  STR_L  [31.92269474, 23.18883325, -32.43116027, -15.1...       549\n",
       "67      2  STR_L  [31.92269474, 23.18883325, -32.43116027, -15.1...       549\n",
       "\n",
       "[68 rows x 4 columns]"
      ]
     },
     "execution_count": 345,
     "metadata": {},
     "output_type": "execute_result"
    }
   ],
   "source": [
    "df"
   ]
  },
  {
   "cell_type": "code",
   "execution_count": 346,
   "metadata": {
    "collapsed": false
   },
   "outputs": [
    {
     "data": {
      "text/plain": [
       "[<matplotlib.lines.Line2D at 0xa363910>]"
      ]
     },
     "execution_count": 346,
     "metadata": {},
     "output_type": "execute_result"
    },
    {
     "data": {
      "image/png": "[encoded data removed]",
      "text/plain": [
       "<matplotlib.figure.Figure at 0xa363950>"
      ]
     },
     "metadata": {},
     "output_type": "display_data"
    }
   ],
   "source": [
    "plt.plot(df.signal.ix[66])\n",
    "plt.plot(df.signal.ix[4])"
   ]
  },
  {
   "cell_type": "code",
   "execution_count": 347,
   "metadata": {
    "collapsed": false
   },
   "outputs": [
    {
     "data": {
      "text/plain": [
       "(0.0097140333270300319, 0.8552804322622668)"
      ]
     },
     "execution_count": 347,
     "metadata": {},
     "output_type": "execute_result"
    }
   ],
   "source": [
    "sp.stats.pearsonr(df.signal.ix[66], df.signal.ix[4])"
   ]
  },
  {
   "cell_type": "markdown",
   "metadata": {},
   "source": [
    "Now we are gonna use nipy to set up a design matrix for the GLM"
   ]
  },
  {
   "cell_type": "code",
   "execution_count": 348,
   "metadata": {
    "collapsed": true
   },
   "outputs": [],
   "source": [
    "from nipy.modalities.fmri import design_matrix, experimental_paradigm\n"
   ]
  },
  {
   "cell_type": "markdown",
   "metadata": {},
   "source": [
    "Let's start with an example:"
   ]
  },
  {
   "cell_type": "code",
   "execution_count": 349,
   "metadata": {
    "collapsed": false
   },
   "outputs": [],
   "source": [
    "conditions = ['condition1'] * 3 + ['condition2'] * 3\n",
    "onsets = [5, 25 , 35, 15, 30, 40]\n",
    "\n",
    "\n",
    "tr = 2.0\n",
    "frametimes = np.arange(0, 50, 2)\n",
    "hrf_model = 'Canonical'\n",
    "\n",
    "paradigm =  experimental_paradigm.BlockParadigm(con_id=conditions, \n",
    "                                                onset=onsets,\n",
    "                                                duration=[[1.]] * len(conditions))\n",
    "\n",
    "\n",
    "X, names= design_matrix.dmtx_light(frametimes, paradigm, hrf_model=hrf_model, )"
   ]
  },
  {
   "cell_type": "markdown",
   "metadata": {},
   "source": [
    "1) Plot matrix X. What do you see? What are the 'conditions' and 'onsets'?"
   ]
  },
  {
   "cell_type": "code",
   "execution_count": 350,
   "metadata": {
    "collapsed": false
   },
   "outputs": [
    {
     "data": {
      "text/plain": [
       "[<matplotlib.lines.Line2D at 0xa4c1a90>,\n",
       " <matplotlib.lines.Line2D at 0xa4c1c10>,\n",
       " <matplotlib.lines.Line2D at 0xa4c1d90>]"
      ]
     },
     "execution_count": 350,
     "metadata": {},
     "output_type": "execute_result"
    },
    {
     "data": {
      "image/png": "[encoded data removed]",
      "text/plain": [
       "<matplotlib.figure.Figure at 0x973b9d0>"
      ]
     },
     "metadata": {},
     "output_type": "display_data"
    }
   ],
   "source": [
    "plt.plot(X)"
   ]
  },
  {
   "cell_type": "markdown",
   "metadata": {},
   "source": [
    "Now let's make the GLM for an actual subject"
   ]
  },
  {
   "cell_type": "code",
   "execution_count": 351,
   "metadata": {
    "collapsed": false
   },
   "outputs": [],
   "source": [
    "behavior = pandas.load('/data/behavior-v2.pandas')"
   ]
  },
  {
   "cell_type": "markdown",
   "metadata": {},
   "source": [
    "Let's go for subject 548, block 1, left Striatum"
   ]
  },
  {
   "cell_type": "code",
   "execution_count": 352,
   "metadata": {
    "collapsed": false
   },
   "outputs": [],
   "source": [
    "subj_idx = 548\n",
    "block = 1\n",
    "mask = 'STR_L'\n",
    "\n",
    "# Select only onsets of subject subj_idx and block block\n",
    "d = behavior[(behavior.subj_idx == subj_idx) & (behavior.block == block)]\n",
    "\n",
    "# Make a list of conditions\n",
    "conditions = ['accuracy'] * (d.cond == '1').sum() +  ['speed'] * (d.cond == '2').sum()\n",
    "\n",
    "# Make a list of onsets\n",
    "onsets = d[d.cond == '1'].cue_onset.tolist() + d[d.cond == '2'].cue_onset.tolist()\n",
    "\n",
    "\n",
    "# The number of volumes is 355, the time is 355*2 = 710, in steps of TR seconds (2)\n",
    "tr = 2.0\n",
    "frametimes = np.arange(0, 710, tr)\n",
    "hrf_model = 'Canonical'\n",
    "\n",
    "# Set up paradigm\n",
    "paradigm =  experimental_paradigm.BlockParadigm(con_id=conditions, \n",
    "                                                onset=onsets,\n",
    "                                                duration=[[2.]] * len(conditions))\n",
    "\n",
    "# Set up GLM\n",
    "X, names= design_matrix.dmtx_light(frametimes, paradigm, hrf_model=hrf_model, drift_model='blank')\n",
    "X = pandas.DataFrame(X, columns=names)"
   ]
  },
  {
   "cell_type": "markdown",
   "metadata": {},
   "source": [
    "2) Plot X again, how does it look?"
   ]
  },
  {
   "cell_type": "code",
   "execution_count": null,
   "metadata": {
    "collapsed": true
   },
   "outputs": [],
   "source": []
  },
  {
   "cell_type": "markdown",
   "metadata": {},
   "source": [
    "Now we can fit the GLM using ordinary least squares (OLS)"
   ]
  },
  {
   "cell_type": "code",
   "execution_count": 353,
   "metadata": {
    "collapsed": false
   },
   "outputs": [
    {
     "data": {
      "text/html": [
       "<table class=\"simpletable\">\n",
       "<caption>OLS Regression Results</caption>\n",
       "<tr>\n",
       "  <th>Dep. Variable:</th>            <td>y</td>        <th>  R-squared:         </th> <td>   0.132</td>\n",
       "</tr>\n",
       "<tr>\n",
       "  <th>Model:</th>                   <td>OLS</td>       <th>  Adj. R-squared:    </th> <td>   0.127</td>\n",
       "</tr>\n",
       "<tr>\n",
       "  <th>Method:</th>             <td>Least Squares</td>  <th>  F-statistic:       </th> <td>   26.75</td>\n",
       "</tr>\n",
       "<tr>\n",
       "  <th>Date:</th>             <td>Tue, 02 Jun 2015</td> <th>  Prob (F-statistic):</th> <td>1.53e-11</td>\n",
       "</tr>\n",
       "<tr>\n",
       "  <th>Time:</th>                 <td>09:39:17</td>     <th>  Log-Likelihood:    </th> <td> -1623.5</td>\n",
       "</tr>\n",
       "<tr>\n",
       "  <th>No. Observations:</th>      <td>   355</td>      <th>  AIC:               </th> <td>   3253.</td>\n",
       "</tr>\n",
       "<tr>\n",
       "  <th>Df Residuals:</th>          <td>   352</td>      <th>  BIC:               </th> <td>   3265.</td>\n",
       "</tr>\n",
       "<tr>\n",
       "  <th>Df Model:</th>              <td>     2</td>      <th>                     </th>     <td> </td>   \n",
       "</tr>\n",
       "<tr>\n",
       "  <th>Covariance Type:</th>      <td>nonrobust</td>    <th>                     </th>     <td> </td>   \n",
       "</tr>\n",
       "</table>\n",
       "<table class=\"simpletable\">\n",
       "<tr>\n",
       "      <td></td>        <th>coef</th>     <th>std err</th>      <th>t</th>      <th>P>|t|</th> <th>[95.0% Conf. Int.]</th> \n",
       "</tr>\n",
       "<tr>\n",
       "  <th>accuracy</th> <td>   19.9825</td> <td>    8.632</td> <td>    2.315</td> <td> 0.021</td> <td>    3.006    36.959</td>\n",
       "</tr>\n",
       "<tr>\n",
       "  <th>speed</th>    <td>   61.2510</td> <td>    8.432</td> <td>    7.264</td> <td> 0.000</td> <td>   44.668    77.834</td>\n",
       "</tr>\n",
       "<tr>\n",
       "  <th>constant</th> <td>   -4.5229</td> <td>    1.445</td> <td>   -3.129</td> <td> 0.002</td> <td>   -7.365    -1.680</td>\n",
       "</tr>\n",
       "</table>\n",
       "<table class=\"simpletable\">\n",
       "<tr>\n",
       "  <th>Omnibus:</th>       <td> 1.475</td> <th>  Durbin-Watson:     </th> <td>   1.088</td>\n",
       "</tr>\n",
       "<tr>\n",
       "  <th>Prob(Omnibus):</th> <td> 0.478</td> <th>  Jarque-Bera (JB):  </th> <td>   1.225</td>\n",
       "</tr>\n",
       "<tr>\n",
       "  <th>Skew:</th>          <td> 0.119</td> <th>  Prob(JB):          </th> <td>   0.542</td>\n",
       "</tr>\n",
       "<tr>\n",
       "  <th>Kurtosis:</th>      <td> 3.162</td> <th>  Cond. No.          </th> <td>    7.54</td>\n",
       "</tr>\n",
       "</table>"
      ],
      "text/plain": [
       "<class 'statsmodels.iolib.summary.Summary'>\n",
       "\"\"\"\n",
       "                            OLS Regression Results                            \n",
       "==============================================================================\n",
       "Dep. Variable:                      y   R-squared:                       0.132\n",
       "Model:                            OLS   Adj. R-squared:                  0.127\n",
       "Method:                 Least Squares   F-statistic:                     26.75\n",
       "Date:                Tue, 02 Jun 2015   Prob (F-statistic):           1.53e-11\n",
       "Time:                        09:39:17   Log-Likelihood:                -1623.5\n",
       "No. Observations:                 355   AIC:                             3253.\n",
       "Df Residuals:                     352   BIC:                             3265.\n",
       "Df Model:                           2                                         \n",
       "Covariance Type:            nonrobust                                         \n",
       "==============================================================================\n",
       "                 coef    std err          t      P>|t|      [95.0% Conf. Int.]\n",
       "------------------------------------------------------------------------------\n",
       "accuracy      19.9825      8.632      2.315      0.021         3.006    36.959\n",
       "speed         61.2510      8.432      7.264      0.000        44.668    77.834\n",
       "constant      -4.5229      1.445     -3.129      0.002        -7.365    -1.680\n",
       "==============================================================================\n",
       "Omnibus:                        1.475   Durbin-Watson:                   1.088\n",
       "Prob(Omnibus):                  0.478   Jarque-Bera (JB):                1.225\n",
       "Skew:                           0.119   Prob(JB):                        0.542\n",
       "Kurtosis:                       3.162   Cond. No.                         7.54\n",
       "==============================================================================\n",
       "\n",
       "Warnings:\n",
       "[1] Standard Errors assume that the covariance matrix of the errors is correctly specified.\n",
       "\"\"\""
      ]
     },
     "execution_count": 353,
     "metadata": {},
     "output_type": "execute_result"
    }
   ],
   "source": [
    "import statsmodels.api as sm\n",
    "Y = df[(df.subj_idx == subj_idx) & (df.block == block) & (df['mask'] == mask)].iloc[0].signal\n",
    "model = sm.OLS(Y, X)\n",
    "r = model.fit()\n",
    "r.summary()"
   ]
  },
  {
   "cell_type": "markdown",
   "metadata": {},
   "source": [
    "3) Interpret these resuts. What do you see?"
   ]
  },
  {
   "cell_type": "markdown",
   "metadata": {},
   "source": [
    "4) Now write a [function](http://www.tutorialspoint.com/python/python_functions.htm) that, given a subject_id and a block fits the glm and returns a dataframe with parameter estimates (hint: most of this is just copying the code above)."
   ]
  },
  {
   "cell_type": "code",
   "execution_count": 354,
   "metadata": {
    "collapsed": false
   },
   "outputs": [
    {
     "data": {
      "text/plain": [
       "accuracy    19.982537\n",
       "speed       61.250953\n",
       "constant    -4.522942\n",
       "dtype: float64"
      ]
     },
     "execution_count": 354,
     "metadata": {},
     "output_type": "execute_result"
    }
   ],
   "source": [
    "r.params"
   ]
  },
  {
   "cell_type": "code",
   "execution_count": 355,
   "metadata": {
    "collapsed": true
   },
   "outputs": [],
   "source": [
    "def fit_glm(subj_idx, block, mask):\n",
    "    \n",
    "    # Select only onsets of subject subj_idx and block block\n",
    "    d = behavior[(behavior.subj_idx == subj_idx) & (behavior.block == block)]\n",
    "\n",
    "    # Make a list of conditions\n",
    "    conditions = ['accuracy'] * (d.cond == '1').sum() +  ['speed'] * (d.cond == '2').sum()\n",
    "\n",
    "    # Make a list of onsets\n",
    "    onsets = d[d.cond == '1'].cue_onset.tolist() + d[d.cond == '2'].cue_onset.tolist()\n",
    "\n",
    "\n",
    "    # The number of volumes is 355, the time is 355*2 = 710, in steps of TR seconds (2)\n",
    "    # signal...\n",
    "    Y = df[(df.subj_idx == subj_idx) & (df.block == block) & (df['mask'] == mask)].iloc[0].signal\n",
    "    \n",
    "    tr = 2.0\n",
    "    frametimes = np.arange(0, Y.shape[0] * 2, tr)\n",
    "    hrf_model = 'Canonical'\n",
    "    \n",
    "    #print frametimes\n",
    "\n",
    "    # Set up paradigm\n",
    "    paradigm =  experimental_paradigm.BlockParadigm(con_id=conditions, \n",
    "                                                    onset=onsets,\n",
    "                                                    duration=[[2.]] * len(conditions))\n",
    "\n",
    "    # Set up GLM\n",
    "    X, names= design_matrix.dmtx_light(frametimes, paradigm, hrf_model=hrf_model, drift_model='blank')\n",
    "    X = pandas.DataFrame(X, columns=names)\n",
    "    model = sm.OLS(Y, X)\n",
    "    r = model.fit()\n",
    "    \n",
    "    return r.params\n",
    "    "
   ]
  },
  {
   "cell_type": "code",
   "execution_count": 356,
   "metadata": {
    "collapsed": false
   },
   "outputs": [
    {
     "data": {
      "text/plain": [
       "accuracy     9.676504\n",
       "speed       45.783643\n",
       "constant    -3.099225\n",
       "dtype: float64"
      ]
     },
     "execution_count": 356,
     "metadata": {},
     "output_type": "execute_result"
    }
   ],
   "source": [
    "\n",
    "fit_glm(548, 1, 'STR_R')"
   ]
  },
  {
   "cell_type": "markdown",
   "metadata": {},
   "source": [
    "Now we can loop through the signals and fit the GLM, storing it in a dataframe"
   ]
  },
  {
   "cell_type": "code",
   "execution_count": 357,
   "metadata": {
    "collapsed": false
   },
   "outputs": [],
   "source": [
    "results = []\n",
    "\n",
    "for fn in fns:\n",
    "    subj_idx = int(reg.match(fn).groupdict()['subj_idx'])\n",
    "    block = int(reg.match(fn).groupdict()['block'])\n",
    "    for mask in ['STR_L', 'STR_R']:\n",
    "        r = fit_glm(subj_idx, block, mask)\n",
    "        \n",
    "        for condition in ['accuracy', 'speed']:\n",
    "            d = {}\n",
    "            d['subj_idx'] = subj_idx\n",
    "            d['mask'] = mask\n",
    "            d['block'] = block\n",
    "            d['condition'] = condition\n",
    "            d['value'] = r[condition]\n",
    "            results.append(d)\n",
    "\n",
    "results = pandas.DataFrame(results)"
   ]
  },
  {
   "cell_type": "markdown",
   "metadata": {},
   "source": [
    "5) Have a look at the dataframe 'results' and use factorplot to summarize it"
   ]
  },
  {
   "cell_type": "code",
   "execution_count": 358,
   "metadata": {
    "collapsed": false
   },
   "outputs": [
    {
     "data": {
      "text/html": [
       "<div style=\"max-height:1000px;max-width:1500px;overflow:auto;\">\n",
       "<table border=\"1\" class=\"dataframe\">\n",
       "  <thead>\n",
       "    <tr style=\"text-align: right;\">\n",
       "      <th></th>\n",
       "      <th>block</th>\n",
       "      <th>condition</th>\n",
       "      <th>mask</th>\n",
       "      <th>subj_idx</th>\n",
       "      <th>value</th>\n",
       "    </tr>\n",
       "  </thead>\n",
       "  <tbody>\n",
       "    <tr>\n",
       "      <th>0</th>\n",
       "      <td>1</td>\n",
       "      <td>accuracy</td>\n",
       "      <td>STR_L</td>\n",
       "      <td>483</td>\n",
       "      <td>38.363305</td>\n",
       "    </tr>\n",
       "    <tr>\n",
       "      <th>1</th>\n",
       "      <td>1</td>\n",
       "      <td>speed</td>\n",
       "      <td>STR_L</td>\n",
       "      <td>483</td>\n",
       "      <td>113.680204</td>\n",
       "    </tr>\n",
       "    <tr>\n",
       "      <th>2</th>\n",
       "      <td>1</td>\n",
       "      <td>accuracy</td>\n",
       "      <td>STR_R</td>\n",
       "      <td>483</td>\n",
       "      <td>19.249807</td>\n",
       "    </tr>\n",
       "    <tr>\n",
       "      <th>3</th>\n",
       "      <td>1</td>\n",
       "      <td>speed</td>\n",
       "      <td>STR_R</td>\n",
       "      <td>483</td>\n",
       "      <td>90.794544</td>\n",
       "    </tr>\n",
       "    <tr>\n",
       "      <th>4</th>\n",
       "      <td>2</td>\n",
       "      <td>accuracy</td>\n",
       "      <td>STR_L</td>\n",
       "      <td>483</td>\n",
       "      <td>24.669389</td>\n",
       "    </tr>\n",
       "  </tbody>\n",
       "</table>\n",
       "</div>"
      ],
      "text/plain": [
       "   block condition   mask  subj_idx       value\n",
       "0      1  accuracy  STR_L       483   38.363305\n",
       "1      1     speed  STR_L       483  113.680204\n",
       "2      1  accuracy  STR_R       483   19.249807\n",
       "3      1     speed  STR_R       483   90.794544\n",
       "4      2  accuracy  STR_L       483   24.669389"
      ]
     },
     "execution_count": 358,
     "metadata": {},
     "output_type": "execute_result"
    }
   ],
   "source": [
    "results.head()"
   ]
  },
  {
   "cell_type": "code",
   "execution_count": 359,
   "metadata": {
    "collapsed": false
   },
   "outputs": [
    {
     "data": {
      "text/plain": [
       "<seaborn.axisgrid.FacetGrid at 0xa4d9b90>"
      ]
     },
     "execution_count": 359,
     "metadata": {},
     "output_type": "execute_result"
    },
    {
     "data": {
      "image/png": "[encoded data removed]",
      "text/plain": [
       "<matplotlib.figure.Figure at 0xa4d9c50>"
      ]
     },
     "metadata": {},
     "output_type": "display_data"
    }
   ],
   "source": [
    "sns.factorplot('condition', 'value', 'mask', data=results, units='subj_idx')"
   ]
  },
  {
   "cell_type": "markdown",
   "metadata": {},
   "source": [
    "6) Interpret the results"
   ]
  },
  {
   "cell_type": "markdown",
   "metadata": {},
   "source": [
    "Now we can use pivot_table to get a difference-value for every subjects"
   ]
  },
  {
   "cell_type": "code",
   "execution_count": 361,
   "metadata": {
    "collapsed": false
   },
   "outputs": [
    {
     "data": {
      "text/html": [
       "<div style=\"max-height:1000px;max-width:1500px;overflow:auto;\">\n",
       "<table border=\"1\" class=\"dataframe\">\n",
       "  <thead>\n",
       "    <tr>\n",
       "      <th>condition</th>\n",
       "      <th colspan=\"2\" halign=\"left\">accuracy</th>\n",
       "      <th colspan=\"2\" halign=\"left\">speed</th>\n",
       "    </tr>\n",
       "    <tr>\n",
       "      <th>mask</th>\n",
       "      <th>STR_L</th>\n",
       "      <th>STR_R</th>\n",
       "      <th>STR_L</th>\n",
       "      <th>STR_R</th>\n",
       "    </tr>\n",
       "    <tr>\n",
       "      <th>subj_idx</th>\n",
       "      <th></th>\n",
       "      <th></th>\n",
       "      <th></th>\n",
       "      <th></th>\n",
       "    </tr>\n",
       "  </thead>\n",
       "  <tbody>\n",
       "    <tr>\n",
       "      <th>197</th>\n",
       "      <td>20.297497</td>\n",
       "      <td>28.775511</td>\n",
       "      <td>35.399893</td>\n",
       "      <td>32.502410</td>\n",
       "    </tr>\n",
       "    <tr>\n",
       "      <th>372</th>\n",
       "      <td>-25.206397</td>\n",
       "      <td>-23.708943</td>\n",
       "      <td>-28.198138</td>\n",
       "      <td>-27.848169</td>\n",
       "    </tr>\n",
       "    <tr>\n",
       "      <th>381</th>\n",
       "      <td>2.763836</td>\n",
       "      <td>4.301661</td>\n",
       "      <td>5.919840</td>\n",
       "      <td>20.403582</td>\n",
       "    </tr>\n",
       "    <tr>\n",
       "      <th>471</th>\n",
       "      <td>46.246059</td>\n",
       "      <td>33.034205</td>\n",
       "      <td>30.175990</td>\n",
       "      <td>28.648976</td>\n",
       "    </tr>\n",
       "    <tr>\n",
       "      <th>483</th>\n",
       "      <td>31.516347</td>\n",
       "      <td>18.047887</td>\n",
       "      <td>89.656101</td>\n",
       "      <td>66.441784</td>\n",
       "    </tr>\n",
       "    <tr>\n",
       "      <th>498</th>\n",
       "      <td>34.883485</td>\n",
       "      <td>36.852975</td>\n",
       "      <td>34.854594</td>\n",
       "      <td>21.491018</td>\n",
       "    </tr>\n",
       "    <tr>\n",
       "      <th>523</th>\n",
       "      <td>26.397715</td>\n",
       "      <td>9.251906</td>\n",
       "      <td>6.635653</td>\n",
       "      <td>7.699153</td>\n",
       "    </tr>\n",
       "    <tr>\n",
       "      <th>544</th>\n",
       "      <td>-47.424435</td>\n",
       "      <td>-48.665150</td>\n",
       "      <td>-14.017671</td>\n",
       "      <td>-21.149068</td>\n",
       "    </tr>\n",
       "    <tr>\n",
       "      <th>548</th>\n",
       "      <td>26.345839</td>\n",
       "      <td>18.681974</td>\n",
       "      <td>41.404691</td>\n",
       "      <td>25.468869</td>\n",
       "    </tr>\n",
       "    <tr>\n",
       "      <th>549</th>\n",
       "      <td>-7.207777</td>\n",
       "      <td>-9.667304</td>\n",
       "      <td>-4.723258</td>\n",
       "      <td>16.371287</td>\n",
       "    </tr>\n",
       "    <tr>\n",
       "      <th>551</th>\n",
       "      <td>29.159076</td>\n",
       "      <td>19.939847</td>\n",
       "      <td>66.966463</td>\n",
       "      <td>59.314449</td>\n",
       "    </tr>\n",
       "    <tr>\n",
       "      <th>552</th>\n",
       "      <td>27.666736</td>\n",
       "      <td>20.928980</td>\n",
       "      <td>52.360642</td>\n",
       "      <td>43.882645</td>\n",
       "    </tr>\n",
       "    <tr>\n",
       "      <th>553</th>\n",
       "      <td>1.818046</td>\n",
       "      <td>9.226789</td>\n",
       "      <td>64.771731</td>\n",
       "      <td>58.872309</td>\n",
       "    </tr>\n",
       "    <tr>\n",
       "      <th>554</th>\n",
       "      <td>61.081503</td>\n",
       "      <td>49.867041</td>\n",
       "      <td>117.139668</td>\n",
       "      <td>97.489322</td>\n",
       "    </tr>\n",
       "    <tr>\n",
       "      <th>555</th>\n",
       "      <td>-8.091450</td>\n",
       "      <td>-7.678153</td>\n",
       "      <td>8.928049</td>\n",
       "      <td>3.391889</td>\n",
       "    </tr>\n",
       "    <tr>\n",
       "      <th>558</th>\n",
       "      <td>24.944020</td>\n",
       "      <td>10.308571</td>\n",
       "      <td>56.611616</td>\n",
       "      <td>55.945742</td>\n",
       "    </tr>\n",
       "    <tr>\n",
       "      <th>559</th>\n",
       "      <td>11.679212</td>\n",
       "      <td>13.318509</td>\n",
       "      <td>9.504244</td>\n",
       "      <td>7.174765</td>\n",
       "    </tr>\n",
       "  </tbody>\n",
       "</table>\n",
       "</div>"
      ],
      "text/plain": [
       "condition   accuracy                  speed           \n",
       "mask           STR_L      STR_R       STR_L      STR_R\n",
       "subj_idx                                              \n",
       "197        20.297497  28.775511   35.399893  32.502410\n",
       "372       -25.206397 -23.708943  -28.198138 -27.848169\n",
       "381         2.763836   4.301661    5.919840  20.403582\n",
       "471        46.246059  33.034205   30.175990  28.648976\n",
       "483        31.516347  18.047887   89.656101  66.441784\n",
       "498        34.883485  36.852975   34.854594  21.491018\n",
       "523        26.397715   9.251906    6.635653   7.699153\n",
       "544       -47.424435 -48.665150  -14.017671 -21.149068\n",
       "548        26.345839  18.681974   41.404691  25.468869\n",
       "549        -7.207777  -9.667304   -4.723258  16.371287\n",
       "551        29.159076  19.939847   66.966463  59.314449\n",
       "552        27.666736  20.928980   52.360642  43.882645\n",
       "553         1.818046   9.226789   64.771731  58.872309\n",
       "554        61.081503  49.867041  117.139668  97.489322\n",
       "555        -8.091450  -7.678153    8.928049   3.391889\n",
       "558        24.944020  10.308571   56.611616  55.945742\n",
       "559        11.679212  13.318509    9.504244   7.174765"
      ]
     },
     "execution_count": 361,
     "metadata": {},
     "output_type": "execute_result"
    }
   ],
   "source": [
    "neural_results = results.pivot_table(values='value', columns=['condition', 'mask'], index=['subj_idx'])\n",
    "neural_results"
   ]
  },
  {
   "cell_type": "markdown",
   "metadata": {},
   "source": [
    "7) What happened here?"
   ]
  },
  {
   "cell_type": "markdown",
   "metadata": {},
   "source": [
    "Now let's load the hddm parameters"
   ]
  },
  {
   "cell_type": "code",
   "execution_count": 362,
   "metadata": {
    "collapsed": false
   },
   "outputs": [],
   "source": [
    "hddm_pars = pandas.load('/data/results_hddm.pandas')"
   ]
  },
  {
   "cell_type": "code",
   "execution_count": 363,
   "metadata": {
    "collapsed": false
   },
   "outputs": [
    {
     "data": {
      "text/html": [
       "<div style=\"max-height:1000px;max-width:1500px;overflow:auto;\">\n",
       "<table border=\"1\" class=\"dataframe\">\n",
       "  <thead>\n",
       "    <tr style=\"text-align: right;\">\n",
       "      <th></th>\n",
       "      <th>parameter</th>\n",
       "      <th>value</th>\n",
       "    </tr>\n",
       "  </thead>\n",
       "  <tbody>\n",
       "    <tr>\n",
       "      <th>0</th>\n",
       "      <td>a(1)</td>\n",
       "      <td>1.909120</td>\n",
       "    </tr>\n",
       "    <tr>\n",
       "      <th>1</th>\n",
       "      <td>a(2)</td>\n",
       "      <td>0.968345</td>\n",
       "    </tr>\n",
       "    <tr>\n",
       "      <th>2</th>\n",
       "      <td>a_std</td>\n",
       "      <td>0.310148</td>\n",
       "    </tr>\n",
       "    <tr>\n",
       "      <th>3</th>\n",
       "      <td>a_rate(1)</td>\n",
       "      <td>19.847083</td>\n",
       "    </tr>\n",
       "    <tr>\n",
       "      <th>4</th>\n",
       "      <td>a_rate(2)</td>\n",
       "      <td>10.066847</td>\n",
       "    </tr>\n",
       "    <tr>\n",
       "      <th>5</th>\n",
       "      <td>a_shape(1)</td>\n",
       "      <td>37.890469</td>\n",
       "    </tr>\n",
       "    <tr>\n",
       "      <th>6</th>\n",
       "      <td>a_shape(2)</td>\n",
       "      <td>9.748179</td>\n",
       "    </tr>\n",
       "    <tr>\n",
       "      <th>7</th>\n",
       "      <td>a_subj(1).197</td>\n",
       "      <td>2.093290</td>\n",
       "    </tr>\n",
       "    <tr>\n",
       "      <th>8</th>\n",
       "      <td>a_subj(1).372</td>\n",
       "      <td>2.315100</td>\n",
       "    </tr>\n",
       "    <tr>\n",
       "      <th>9</th>\n",
       "      <td>a_subj(1).381</td>\n",
       "      <td>1.395888</td>\n",
       "    </tr>\n",
       "    <tr>\n",
       "      <th>10</th>\n",
       "      <td>a_subj(1).471</td>\n",
       "      <td>2.051854</td>\n",
       "    </tr>\n",
       "    <tr>\n",
       "      <th>11</th>\n",
       "      <td>a_subj(1).483</td>\n",
       "      <td>2.111730</td>\n",
       "    </tr>\n",
       "    <tr>\n",
       "      <th>12</th>\n",
       "      <td>a_subj(1).498</td>\n",
       "      <td>1.746325</td>\n",
       "    </tr>\n",
       "    <tr>\n",
       "      <th>13</th>\n",
       "      <td>a_subj(1).523</td>\n",
       "      <td>2.100895</td>\n",
       "    </tr>\n",
       "    <tr>\n",
       "      <th>14</th>\n",
       "      <td>a_subj(1).544</td>\n",
       "      <td>2.041006</td>\n",
       "    </tr>\n",
       "  </tbody>\n",
       "</table>\n",
       "</div>"
      ],
      "text/plain": [
       "        parameter      value\n",
       "0            a(1)   1.909120\n",
       "1            a(2)   0.968345\n",
       "2           a_std   0.310148\n",
       "3       a_rate(1)  19.847083\n",
       "4       a_rate(2)  10.066847\n",
       "5      a_shape(1)  37.890469\n",
       "6      a_shape(2)   9.748179\n",
       "7   a_subj(1).197   2.093290\n",
       "8   a_subj(1).372   2.315100\n",
       "9   a_subj(1).381   1.395888\n",
       "10  a_subj(1).471   2.051854\n",
       "11  a_subj(1).483   2.111730\n",
       "12  a_subj(1).498   1.746325\n",
       "13  a_subj(1).523   2.100895\n",
       "14  a_subj(1).544   2.041006"
      ]
     },
     "execution_count": 363,
     "metadata": {},
     "output_type": "execute_result"
    }
   ],
   "source": [
    "hddm_pars.head(15)"
   ]
  },
  {
   "cell_type": "markdown",
   "metadata": {},
   "source": [
    "The following code is a bit hacky, a way to get the threshold-estimates out"
   ]
  },
  {
   "cell_type": "code",
   "execution_count": 364,
   "metadata": {
    "collapsed": false
   },
   "outputs": [],
   "source": [
    "import re\n",
    "reg = re.compile('a_subj\\((?P<condition>[0-9])\\)\\.(?P<subj_idx>[0-9]{3})')\n",
    "\n",
    "results = []\n",
    "\n",
    "for i, row in hddm_pars.iterrows():\n",
    "    if row.parameter[:6] == 'a_subj':\n",
    "        d = reg.match(row.parameter).groupdict()\n",
    "        d['value'] = row.value\n",
    "        results.append(d)\n",
    "        \n",
    "threshold_pars = pandas.DataFrame(results)\n",
    "threshold_pars['condition'] = threshold_pars.condition.map({'1':'accuracy', '2':'speed'})\n",
    "threshold_pars['subj_idx'] = threshold_pars['subj_idx'].astype(int) "
   ]
  },
  {
   "cell_type": "code",
   "execution_count": 365,
   "metadata": {
    "collapsed": false
   },
   "outputs": [
    {
     "data": {
      "text/html": [
       "<div style=\"max-height:1000px;max-width:1500px;overflow:auto;\">\n",
       "<table border=\"1\" class=\"dataframe\">\n",
       "  <thead>\n",
       "    <tr style=\"text-align: right;\">\n",
       "      <th>condition</th>\n",
       "      <th>accuracy</th>\n",
       "      <th>speed</th>\n",
       "    </tr>\n",
       "    <tr>\n",
       "      <th>subj_idx</th>\n",
       "      <th></th>\n",
       "      <th></th>\n",
       "    </tr>\n",
       "  </thead>\n",
       "  <tbody>\n",
       "    <tr>\n",
       "      <th>197</th>\n",
       "      <td>2.093290</td>\n",
       "      <td>0.767477</td>\n",
       "    </tr>\n",
       "    <tr>\n",
       "      <th>372</th>\n",
       "      <td>2.315100</td>\n",
       "      <td>0.886336</td>\n",
       "    </tr>\n",
       "    <tr>\n",
       "      <th>381</th>\n",
       "      <td>1.395888</td>\n",
       "      <td>0.994500</td>\n",
       "    </tr>\n",
       "    <tr>\n",
       "      <th>471</th>\n",
       "      <td>2.051854</td>\n",
       "      <td>0.731500</td>\n",
       "    </tr>\n",
       "    <tr>\n",
       "      <th>483</th>\n",
       "      <td>2.111730</td>\n",
       "      <td>0.811064</td>\n",
       "    </tr>\n",
       "    <tr>\n",
       "      <th>498</th>\n",
       "      <td>1.746325</td>\n",
       "      <td>0.839810</td>\n",
       "    </tr>\n",
       "    <tr>\n",
       "      <th>523</th>\n",
       "      <td>2.100895</td>\n",
       "      <td>0.864003</td>\n",
       "    </tr>\n",
       "    <tr>\n",
       "      <th>544</th>\n",
       "      <td>2.041006</td>\n",
       "      <td>0.952433</td>\n",
       "    </tr>\n",
       "    <tr>\n",
       "      <th>548</th>\n",
       "      <td>1.902495</td>\n",
       "      <td>0.899980</td>\n",
       "    </tr>\n",
       "    <tr>\n",
       "      <th>549</th>\n",
       "      <td>2.247199</td>\n",
       "      <td>1.339239</td>\n",
       "    </tr>\n",
       "    <tr>\n",
       "      <th>551</th>\n",
       "      <td>1.804123</td>\n",
       "      <td>0.708309</td>\n",
       "    </tr>\n",
       "    <tr>\n",
       "      <th>552</th>\n",
       "      <td>2.099931</td>\n",
       "      <td>0.807520</td>\n",
       "    </tr>\n",
       "    <tr>\n",
       "      <th>553</th>\n",
       "      <td>1.253275</td>\n",
       "      <td>0.861081</td>\n",
       "    </tr>\n",
       "    <tr>\n",
       "      <th>554</th>\n",
       "      <td>1.840335</td>\n",
       "      <td>0.772525</td>\n",
       "    </tr>\n",
       "    <tr>\n",
       "      <th>555</th>\n",
       "      <td>1.885436</td>\n",
       "      <td>0.875650</td>\n",
       "    </tr>\n",
       "    <tr>\n",
       "      <th>558</th>\n",
       "      <td>1.598039</td>\n",
       "      <td>0.941607</td>\n",
       "    </tr>\n",
       "    <tr>\n",
       "      <th>559</th>\n",
       "      <td>2.255198</td>\n",
       "      <td>1.732243</td>\n",
       "    </tr>\n",
       "  </tbody>\n",
       "</table>\n",
       "</div>"
      ],
      "text/plain": [
       "condition  accuracy     speed\n",
       "subj_idx                     \n",
       "197        2.093290  0.767477\n",
       "372        2.315100  0.886336\n",
       "381        1.395888  0.994500\n",
       "471        2.051854  0.731500\n",
       "483        2.111730  0.811064\n",
       "498        1.746325  0.839810\n",
       "523        2.100895  0.864003\n",
       "544        2.041006  0.952433\n",
       "548        1.902495  0.899980\n",
       "549        2.247199  1.339239\n",
       "551        1.804123  0.708309\n",
       "552        2.099931  0.807520\n",
       "553        1.253275  0.861081\n",
       "554        1.840335  0.772525\n",
       "555        1.885436  0.875650\n",
       "558        1.598039  0.941607\n",
       "559        2.255198  1.732243"
      ]
     },
     "execution_count": 365,
     "metadata": {},
     "output_type": "execute_result"
    }
   ],
   "source": [
    "behavioral_results = threshold_pars.pivot_table(values='value', columns='condition', index=['subj_idx'])\n",
    "behavioral_results"
   ]
  },
  {
   "cell_type": "markdown",
   "metadata": {},
   "source": [
    "Now we merge the behavioral and neural results"
   ]
  },
  {
   "cell_type": "code",
   "execution_count": 368,
   "metadata": {
    "collapsed": false
   },
   "outputs": [
    {
     "data": {
      "text/html": [
       "<div style=\"max-height:1000px;max-width:1500px;overflow:auto;\">\n",
       "<table border=\"1\" class=\"dataframe\">\n",
       "  <thead>\n",
       "    <tr style=\"text-align: right;\">\n",
       "      <th></th>\n",
       "      <th>(accuracy, STR_L)</th>\n",
       "      <th>(accuracy, STR_R)</th>\n",
       "      <th>(speed, STR_L)</th>\n",
       "      <th>(speed, STR_R)</th>\n",
       "      <th>accuracy</th>\n",
       "      <th>speed</th>\n",
       "    </tr>\n",
       "    <tr>\n",
       "      <th>subj_idx</th>\n",
       "      <th></th>\n",
       "      <th></th>\n",
       "      <th></th>\n",
       "      <th></th>\n",
       "      <th></th>\n",
       "      <th></th>\n",
       "    </tr>\n",
       "  </thead>\n",
       "  <tbody>\n",
       "    <tr>\n",
       "      <th>197</th>\n",
       "      <td>20.297497</td>\n",
       "      <td>28.775511</td>\n",
       "      <td>35.399893</td>\n",
       "      <td>32.502410</td>\n",
       "      <td>2.093290</td>\n",
       "      <td>0.767477</td>\n",
       "    </tr>\n",
       "    <tr>\n",
       "      <th>372</th>\n",
       "      <td>-25.206397</td>\n",
       "      <td>-23.708943</td>\n",
       "      <td>-28.198138</td>\n",
       "      <td>-27.848169</td>\n",
       "      <td>2.315100</td>\n",
       "      <td>0.886336</td>\n",
       "    </tr>\n",
       "    <tr>\n",
       "      <th>381</th>\n",
       "      <td>2.763836</td>\n",
       "      <td>4.301661</td>\n",
       "      <td>5.919840</td>\n",
       "      <td>20.403582</td>\n",
       "      <td>1.395888</td>\n",
       "      <td>0.994500</td>\n",
       "    </tr>\n",
       "    <tr>\n",
       "      <th>471</th>\n",
       "      <td>46.246059</td>\n",
       "      <td>33.034205</td>\n",
       "      <td>30.175990</td>\n",
       "      <td>28.648976</td>\n",
       "      <td>2.051854</td>\n",
       "      <td>0.731500</td>\n",
       "    </tr>\n",
       "    <tr>\n",
       "      <th>483</th>\n",
       "      <td>31.516347</td>\n",
       "      <td>18.047887</td>\n",
       "      <td>89.656101</td>\n",
       "      <td>66.441784</td>\n",
       "      <td>2.111730</td>\n",
       "      <td>0.811064</td>\n",
       "    </tr>\n",
       "    <tr>\n",
       "      <th>498</th>\n",
       "      <td>34.883485</td>\n",
       "      <td>36.852975</td>\n",
       "      <td>34.854594</td>\n",
       "      <td>21.491018</td>\n",
       "      <td>1.746325</td>\n",
       "      <td>0.839810</td>\n",
       "    </tr>\n",
       "    <tr>\n",
       "      <th>523</th>\n",
       "      <td>26.397715</td>\n",
       "      <td>9.251906</td>\n",
       "      <td>6.635653</td>\n",
       "      <td>7.699153</td>\n",
       "      <td>2.100895</td>\n",
       "      <td>0.864003</td>\n",
       "    </tr>\n",
       "    <tr>\n",
       "      <th>544</th>\n",
       "      <td>-47.424435</td>\n",
       "      <td>-48.665150</td>\n",
       "      <td>-14.017671</td>\n",
       "      <td>-21.149068</td>\n",
       "      <td>2.041006</td>\n",
       "      <td>0.952433</td>\n",
       "    </tr>\n",
       "    <tr>\n",
       "      <th>548</th>\n",
       "      <td>26.345839</td>\n",
       "      <td>18.681974</td>\n",
       "      <td>41.404691</td>\n",
       "      <td>25.468869</td>\n",
       "      <td>1.902495</td>\n",
       "      <td>0.899980</td>\n",
       "    </tr>\n",
       "    <tr>\n",
       "      <th>549</th>\n",
       "      <td>-7.207777</td>\n",
       "      <td>-9.667304</td>\n",
       "      <td>-4.723258</td>\n",
       "      <td>16.371287</td>\n",
       "      <td>2.247199</td>\n",
       "      <td>1.339239</td>\n",
       "    </tr>\n",
       "    <tr>\n",
       "      <th>551</th>\n",
       "      <td>29.159076</td>\n",
       "      <td>19.939847</td>\n",
       "      <td>66.966463</td>\n",
       "      <td>59.314449</td>\n",
       "      <td>1.804123</td>\n",
       "      <td>0.708309</td>\n",
       "    </tr>\n",
       "    <tr>\n",
       "      <th>552</th>\n",
       "      <td>27.666736</td>\n",
       "      <td>20.928980</td>\n",
       "      <td>52.360642</td>\n",
       "      <td>43.882645</td>\n",
       "      <td>2.099931</td>\n",
       "      <td>0.807520</td>\n",
       "    </tr>\n",
       "    <tr>\n",
       "      <th>553</th>\n",
       "      <td>1.818046</td>\n",
       "      <td>9.226789</td>\n",
       "      <td>64.771731</td>\n",
       "      <td>58.872309</td>\n",
       "      <td>1.253275</td>\n",
       "      <td>0.861081</td>\n",
       "    </tr>\n",
       "    <tr>\n",
       "      <th>554</th>\n",
       "      <td>61.081503</td>\n",
       "      <td>49.867041</td>\n",
       "      <td>117.139668</td>\n",
       "      <td>97.489322</td>\n",
       "      <td>1.840335</td>\n",
       "      <td>0.772525</td>\n",
       "    </tr>\n",
       "    <tr>\n",
       "      <th>555</th>\n",
       "      <td>-8.091450</td>\n",
       "      <td>-7.678153</td>\n",
       "      <td>8.928049</td>\n",
       "      <td>3.391889</td>\n",
       "      <td>1.885436</td>\n",
       "      <td>0.875650</td>\n",
       "    </tr>\n",
       "    <tr>\n",
       "      <th>558</th>\n",
       "      <td>24.944020</td>\n",
       "      <td>10.308571</td>\n",
       "      <td>56.611616</td>\n",
       "      <td>55.945742</td>\n",
       "      <td>1.598039</td>\n",
       "      <td>0.941607</td>\n",
       "    </tr>\n",
       "    <tr>\n",
       "      <th>559</th>\n",
       "      <td>11.679212</td>\n",
       "      <td>13.318509</td>\n",
       "      <td>9.504244</td>\n",
       "      <td>7.174765</td>\n",
       "      <td>2.255198</td>\n",
       "      <td>1.732243</td>\n",
       "    </tr>\n",
       "  </tbody>\n",
       "</table>\n",
       "</div>"
      ],
      "text/plain": [
       "          (accuracy, STR_L)  (accuracy, STR_R)  (speed, STR_L)  \\\n",
       "subj_idx                                                         \n",
       "197               20.297497          28.775511       35.399893   \n",
       "372              -25.206397         -23.708943      -28.198138   \n",
       "381                2.763836           4.301661        5.919840   \n",
       "471               46.246059          33.034205       30.175990   \n",
       "483               31.516347          18.047887       89.656101   \n",
       "498               34.883485          36.852975       34.854594   \n",
       "523               26.397715           9.251906        6.635653   \n",
       "544              -47.424435         -48.665150      -14.017671   \n",
       "548               26.345839          18.681974       41.404691   \n",
       "549               -7.207777          -9.667304       -4.723258   \n",
       "551               29.159076          19.939847       66.966463   \n",
       "552               27.666736          20.928980       52.360642   \n",
       "553                1.818046           9.226789       64.771731   \n",
       "554               61.081503          49.867041      117.139668   \n",
       "555               -8.091450          -7.678153        8.928049   \n",
       "558               24.944020          10.308571       56.611616   \n",
       "559               11.679212          13.318509        9.504244   \n",
       "\n",
       "          (speed, STR_R)  accuracy     speed  \n",
       "subj_idx                                      \n",
       "197            32.502410  2.093290  0.767477  \n",
       "372           -27.848169  2.315100  0.886336  \n",
       "381            20.403582  1.395888  0.994500  \n",
       "471            28.648976  2.051854  0.731500  \n",
       "483            66.441784  2.111730  0.811064  \n",
       "498            21.491018  1.746325  0.839810  \n",
       "523             7.699153  2.100895  0.864003  \n",
       "544           -21.149068  2.041006  0.952433  \n",
       "548            25.468869  1.902495  0.899980  \n",
       "549            16.371287  2.247199  1.339239  \n",
       "551            59.314449  1.804123  0.708309  \n",
       "552            43.882645  2.099931  0.807520  \n",
       "553            58.872309  1.253275  0.861081  \n",
       "554            97.489322  1.840335  0.772525  \n",
       "555             3.391889  1.885436  0.875650  \n",
       "558            55.945742  1.598039  0.941607  \n",
       "559             7.174765  2.255198  1.732243  "
      ]
     },
     "execution_count": 368,
     "metadata": {},
     "output_type": "execute_result"
    }
   ],
   "source": [
    "combined_data = pandas.merge(neural_results, behavioral_results, suffixes=('_fmri', '_threshold'), left_index=True, right_index=True)\n",
    "combined_data"
   ]
  },
  {
   "cell_type": "markdown",
   "metadata": {},
   "source": [
    "8) What does the table above contain?"
   ]
  },
  {
   "cell_type": "markdown",
   "metadata": {},
   "source": [
    "9) Correlate the difference in thresholds with the difference in fMRI signals using lmplot for left and right striatum"
   ]
  },
  {
   "cell_type": "code",
   "execution_count": 372,
   "metadata": {
    "collapsed": false
   },
   "outputs": [
    {
     "data": {
      "text/plain": [
       "<seaborn.axisgrid.JointGrid at 0xad7bf50>"
      ]
     },
     "execution_count": 372,
     "metadata": {},
     "output_type": "execute_result"
    },
    {
     "data": {
      "image/png": "[encoded data removed]",
      "text/plain": [
       "<matplotlib.figure.Figure at 0xad7be10>"
      ]
     },
     "metadata": {},
     "output_type": "display_data"
    }
   ],
   "source": [
    "sns.jointplot(combined_data[('accuracy', 'STR_R')] - combined_data[('speed', 'STR_R')], combined_data['accuracy'] - combined_data['speed'])"
   ]
  },
  {
   "cell_type": "code",
   "execution_count": 373,
   "metadata": {
    "collapsed": false
   },
   "outputs": [
    {
     "data": {
      "text/plain": [
       "<seaborn.axisgrid.JointGrid at 0xb6748d0>"
      ]
     },
     "execution_count": 373,
     "metadata": {},
     "output_type": "execute_result"
    },
    {
     "data": {
      "image/png": "[encoded data removed]",
      "text/plain": [
       "<matplotlib.figure.Figure at 0xaad6510>"
      ]
     },
     "metadata": {},
     "output_type": "display_data"
    }
   ],
   "source": [
    "sns.jointplot(combined_data[('accuracy', 'STR_L')] - combined_data[('speed', 'STR_L')], combined_data['accuracy'] - combined_data['speed'])"
   ]
  },
  {
   "cell_type": "code",
   "execution_count": null,
   "metadata": {
    "collapsed": true
   },
   "outputs": [],
   "source": []
  }
 ],
 "metadata": {
  "kernelspec": {
   "display_name": "Python 2",
   "language": "python",
   "name": "python2"
  },
  "language_info": {
   "codemirror_mode": {
    "name": "ipython",
    "version": 2
   },
   "file_extension": ".py",
   "mimetype": "text/x-python",
   "name": "python",
   "nbconvert_exporter": "python",
   "pygments_lexer": "ipython2",
   "version": "2.7.3"
  }
 },
 "nbformat": 4,
 "nbformat_minor": 0
}
